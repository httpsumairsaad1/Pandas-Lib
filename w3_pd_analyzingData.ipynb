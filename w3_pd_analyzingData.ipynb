{
 "cells": [
  {
   "cell_type": "code",
   "execution_count": 44,
   "id": "0484ae9a-6514-4ae2-b107-1a5fbb5d2fe5",
   "metadata": {},
   "outputs": [
    {
     "name": "stdout",
     "output_type": "stream",
     "text": [
      "fake_data.csv\n",
      "fd.xlsx\n",
      "pd_data.xlsx\n",
      "projects.csv\n",
      "short_fake_data.xlsx\n"
     ]
    }
   ],
   "source": [
    "import os\n",
    "\n",
    "directory = \"E:/fake data/\"\n",
    "\n",
    "files = os.listdir(directory)\n",
    "\n",
    "for file in files:\n",
    "    print(file)"
   ]
  },
  {
   "cell_type": "code",
   "execution_count": 42,
   "id": "c273acda-2829-40ff-966d-407ec3c58073",
   "metadata": {},
   "outputs": [
    {
     "name": "stdout",
     "output_type": "stream",
     "text": [
      "===================\n",
      "    ID        Name  Age               Email         Phone         City\n",
      "0   1  John Doe 1   43  johndoe1@email.com  555-1234-001     New York\n",
      "1   2  John Doe 2   29  johndoe2@email.com  555-1234-002  Los Angeles\n",
      "2   3  John Doe 3   36  johndoe3@email.com  555-1234-003      Chicago\n",
      "===================\n",
      "    ID        Name  Age               Email         Phone         City\n",
      "0   1  John Doe 1   43  johndoe1@email.com  555-1234-001     New York\n",
      "1   2  John Doe 2   29  johndoe2@email.com  555-1234-002  Los Angeles\n",
      "2   3  John Doe 3   36  johndoe3@email.com  555-1234-003      Chicago\n",
      "3   4  John Doe 4   36  johndoe4@email.com  555-1234-004      Houston\n",
      "<class 'pandas.core.frame.DataFrame'>\n",
      "RangeIndex: 5 entries, 0 to 4\n",
      "Data columns (total 6 columns):\n",
      " #   Column  Non-Null Count  Dtype \n",
      "---  ------  --------------  ----- \n",
      " 0   ID      5 non-null      int64 \n",
      " 1   Name    5 non-null      object\n",
      " 2   Age     5 non-null      int64 \n",
      " 3   Email   5 non-null      object\n",
      " 4   Phone   5 non-null      object\n",
      " 5   City    5 non-null      object\n",
      "dtypes: int64(2), object(4)\n",
      "memory usage: 372.0+ bytes\n",
      "===================\n",
      " None\n",
      "============================================================\n",
      "\n",
      "    ID       Name  Age                  Email          Phone  \\\n",
      "0    1   Person_1   41   person_1@example.com   123-456-7891   \n",
      "1    2   Person_2   40   person_2@example.com   123-456-7892   \n",
      "2    3   Person_3   55   person_3@example.com   123-456-7893   \n",
      "3    4   Person_4   43   person_4@example.com   123-456-7894   \n",
      "4    5   Person_5   19   person_5@example.com   123-456-7895   \n",
      "5    6   Person_6   47   person_6@example.com   123-456-7896   \n",
      "6    7   Person_7   26   person_7@example.com   123-456-7897   \n",
      "7    8   Person_8   44   person_8@example.com   123-456-7898   \n",
      "8    9   Person_9   50   person_9@example.com   123-456-7899   \n",
      "9   10  Person_10   26  person_10@example.com  123-456-78910   \n",
      "10  11  Person_11   32  person_11@example.com  123-456-78911   \n",
      "11  12  Person_12   27  person_12@example.com  123-456-78912   \n",
      "12  13  Person_13   45  person_13@example.com  123-456-78913   \n",
      "13  14  Person_14   43  person_14@example.com  123-456-78914   \n",
      "14  15  Person_15   37  person_15@example.com  123-456-78915   \n",
      "15  16  Person_16   51  person_16@example.com  123-456-78916   \n",
      "16  17  Person_17   45  person_17@example.com  123-456-78917   \n",
      "17  18  Person_18   19  person_18@example.com  123-456-78918   \n",
      "18  19  Person_19   30  person_19@example.com  123-456-78919   \n",
      "19  20  Person_20   19  person_20@example.com  123-456-78920   \n",
      "\n",
      "                            Address  Salary  \n",
      "0     1 Elm Street, City 1, Country   84825  \n",
      "1     2 Elm Street, City 2, Country  113309  \n",
      "2     3 Elm Street, City 3, Country   78885  \n",
      "3     4 Elm Street, City 4, Country   77742  \n",
      "4     5 Elm Street, City 5, Country   33880  \n",
      "5     6 Elm Street, City 6, Country   59173  \n",
      "6     7 Elm Street, City 7, Country   32706  \n",
      "7     8 Elm Street, City 8, Country   75083  \n",
      "8     9 Elm Street, City 9, Country   88101  \n",
      "9   10 Elm Street, City 10, Country   37407  \n",
      "10  11 Elm Street, City 11, Country   75145  \n",
      "11  12 Elm Street, City 12, Country   35397  \n",
      "12  13 Elm Street, City 13, Country   78543  \n",
      "13  14 Elm Street, City 14, Country   52045  \n",
      "14  15 Elm Street, City 15, Country  109862  \n",
      "15  16 Elm Street, City 16, Country   78285  \n",
      "16  17 Elm Street, City 17, Country   55379  \n",
      "17  18 Elm Street, City 18, Country   68694  \n",
      "18  19 Elm Street, City 19, Country   48453  \n",
      "19  20 Elm Street, City 20, Country   94648  \n"
     ]
    }
   ],
   "source": [
    "import pandas as pd\n",
    "data = pd.read_excel(\"E:/fake data/short_fake_data.xlsx\")\n",
    "print(\"===================\\n\", data.head(3))\n",
    "print(\"===================\\n\", data.head(4)) # First five.\n",
    "print(\"===================\\n\", data.info())\n",
    "\n",
    "print(\"============================================================\\n\")\n",
    "df = pd.read_excel(\"E:/fake data/pd_data.xlsx\")\n",
    "print(df)\n"
   ]
  },
  {
   "cell_type": "code",
   "execution_count": null,
   "id": "e4b03565-5e8e-4d21-b909-c7f048b31dc9",
   "metadata": {},
   "outputs": [],
   "source": []
  }
 ],
 "metadata": {
  "kernelspec": {
   "display_name": "Python 3 (ipykernel)",
   "language": "python",
   "name": "python3"
  },
  "language_info": {
   "codemirror_mode": {
    "name": "ipython",
    "version": 3
   },
   "file_extension": ".py",
   "mimetype": "text/x-python",
   "name": "python",
   "nbconvert_exporter": "python",
   "pygments_lexer": "ipython3",
   "version": "3.12.4"
  }
 },
 "nbformat": 4,
 "nbformat_minor": 5
}
