{
 "cells": [
  {
   "cell_type": "code",
   "execution_count": 22,
   "id": "6afb8657-4c9e-4005-9266-1660e56e4f84",
   "metadata": {},
   "outputs": [
    {
     "name": "stdout",
     "output_type": "stream",
     "text": [
      "   calories  duration\n",
      "0       420        50\n",
      "1       380        40\n",
      "2       390        45\n",
      "======================\n",
      "          Name  Age\n",
      "0  Umair Saad   21\n",
      "1      Sajjad   22\n",
      "2       Shams   21\n",
      "======================\n",
      " Name    Umair Saad\n",
      "Age             21\n",
      "Name: 0, dtype: object\n",
      "======================\n",
      " Name    Sajjad\n",
      "Age         22\n",
      "Name: 1, dtype: object\n",
      "======================\n",
      "          Name  Age\n",
      "0  Umair Saad   21\n",
      "2       Shams   21\n",
      "=========== Named Indexes ===========\n",
      "      calories  duration\n",
      "day1       420        50\n",
      "day2       380        40\n",
      "day3       390        45\n",
      "=========== Named Indexes Practice ===========\n",
      "\n",
      "   Car-num-plate\n",
      "1            999\n",
      "2            213\n",
      "3            424\n",
      "4            634\n",
      "5            546\n",
      "6            974\n",
      "7            424\n",
      "8            622\n"
     ]
    }
   ],
   "source": [
    "import pandas as pd\n",
    "\n",
    "data = {\n",
    "  \"calories\": [420, 380, 390],\n",
    "  \"duration\": [50, 40, 45]\n",
    "}\n",
    "df = pd.DataFrame(data)\n",
    "\n",
    "print(df) \n",
    "\n",
    "data2 = {\n",
    "    \"Name\": [\"Umair Saad\", \"Sajjad\", \"Shams\"],\n",
    "    \"Age\": [21, 22, 21],\n",
    "}\n",
    "df = pd.DataFrame(data2)\n",
    "print(\"======================\\n\",df)\n",
    "\n",
    "print(\"======================\\n\",df.loc[0])\n",
    "print(\"======================\\n\", df.loc[1])\n",
    "\n",
    "print(\"======================\\n\",df.loc[[0, 2]])\n",
    "\n",
    "print(\"=========== Named Indexes ===========\")\n",
    "data3 = {\n",
    "  \"calories\": [420, 380, 390],\n",
    "  \"duration\": [50, 40, 45]\n",
    "}\n",
    "\n",
    "d = pd.DataFrame(data3, index = [\"day1\", \"day2\", \"day3\"])\n",
    "print(d) \n",
    "\n",
    "print(\"=========== Named Indexes Practice ===========\\n\")\n",
    "data4 = {\n",
    "    \"Car-num-plate\": [999, 213, 424, 634, 546, 974, 424, 622],\n",
    "}\n",
    "temp = pd.DataFrame(data4, index=[1, 2, 3, 4, 5, 6, 7, 8])\n",
    "print(temp)"
   ]
  },
  {
   "cell_type": "code",
   "execution_count": null,
   "id": "f9a1d212-55eb-40d7-9cfd-2b42cf15e290",
   "metadata": {},
   "outputs": [],
   "source": []
  }
 ],
 "metadata": {
  "kernelspec": {
   "display_name": "Python 3 (ipykernel)",
   "language": "python",
   "name": "python3"
  },
  "language_info": {
   "codemirror_mode": {
    "name": "ipython",
    "version": 3
   },
   "file_extension": ".py",
   "mimetype": "text/x-python",
   "name": "python",
   "nbconvert_exporter": "python",
   "pygments_lexer": "ipython3",
   "version": "3.12.4"
  }
 },
 "nbformat": 4,
 "nbformat_minor": 5
}
