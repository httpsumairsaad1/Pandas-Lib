{
 "cells": [
  {
   "cell_type": "code",
   "execution_count": 5,
   "id": "5ede16a7-14cf-46e0-b3b5-8227d55a13e8",
   "metadata": {},
   "outputs": [
    {
     "name": "stdout",
     "output_type": "stream",
     "text": [
      "   col1  col2\n",
      "0     1     5\n",
      "1     2     6\n",
      "2     3     7\n",
      "3     4     8\n"
     ]
    }
   ],
   "source": [
    "import pandas as pd\n",
    "d = {'col1':[1,2,3,4], 'col2':[5,6,7,8]}\n",
    "df = pd.DataFrame(data=d)\n",
    "print(df)"
   ]
  },
  {
   "cell_type": "code",
   "execution_count": 15,
   "id": "fbda2d52-5022-4f00-95c7-5504b2f26d57",
   "metadata": {},
   "outputs": [
    {
     "name": "stdout",
     "output_type": "stream",
     "text": [
      "Count of Columns:  2\n",
      "Count of Columns:  4\n"
     ]
    }
   ],
   "source": [
    "count_col = df.shape[1] # [1] for Number of Columns.\n",
    "print(\"Count of Columns: \", count_col)\n",
    "\n",
    "count_row = df.shape[0] # [1] for Number of Rows.\n",
    "print(\"Count of Columns: \", count_row)"
   ]
  },
  {
   "cell_type": "code",
   "execution_count": 19,
   "id": "bd284912-cfe9-406a-8485-cc58e8d055bc",
   "metadata": {},
   "outputs": [
    {
     "name": "stdout",
     "output_type": "stream",
     "text": [
      "    col1  col2\n",
      "0      1    16\n",
      "1      2    17\n",
      "2      3    18\n",
      "3      4    19\n",
      "4      5    20\n",
      "5      6    21\n",
      "6      7    22\n",
      "7      8    23\n",
      "8      9    24\n",
      "9     10    25\n",
      "10    11    26\n",
      "11    12    27\n",
      "12    13    28\n",
      "13    14    29\n",
      "14    15    30\n",
      "2   15\n"
     ]
    }
   ],
   "source": [
    "import pandas as pd\n",
    "d = {'col1':[1,2,3,4,5,6,7,8,9,10,11,12,13,14,15], 'col2': [16,17,18,19,20, 21, 22, 23, 24, 25, 26, 27, 28, 29, 30]}\n",
    "df = pd.DataFrame(d)\n",
    "print(df)\n",
    "\n",
    "cc = df.shape[1]\n",
    "cr = df.shape[0]\n",
    "print(cc, \" \", cr)"
   ]
  }
 ],
 "metadata": {
  "kernelspec": {
   "display_name": "Python 3 (ipykernel)",
   "language": "python",
   "name": "python3"
  },
  "language_info": {
   "codemirror_mode": {
    "name": "ipython",
    "version": 3
   },
   "file_extension": ".py",
   "mimetype": "text/x-python",
   "name": "python",
   "nbconvert_exporter": "python",
   "pygments_lexer": "ipython3",
   "version": "3.12.4"
  }
 },
 "nbformat": 4,
 "nbformat_minor": 5
}
